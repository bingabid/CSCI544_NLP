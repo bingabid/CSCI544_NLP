{
 "cells": [
  {
   "cell_type": "markdown",
   "execution_count": null,
   "metadata": {},
   "outputs": [],
   "source": [
    "### Read training, dev and unlabeled test data"
   ]
  },
  {
   "cell_type": "markdown",
   "execution_count": null,
   "metadata": {},
   "outputs": [],
   "source": [
    "The following provides a starting code (Python 3) of how to read the labeled training and dev cipher text, and unlabeled test cipher text, into lists."
   ]
  },
  {
   "cell_type": "code",
   "execution_count": 1,
   "metadata": {},
   "outputs": [],
   "source": [
    "train, dev, test = [], [], []"
   ]
  },
  {
   "cell_type": "code",
   "execution_count": 2,
   "metadata": {},
   "outputs": [],
   "source": [
    "for x in open('./train_enc.tsv', encoding='utf-8'):\n",
    "    x = x.rstrip('\\n\\r').split('\\t')\n",
    "    # x[0] will be the label (0 or 1), and x[1] will be the ciphertext sentence.\n",
    "    x[0] = int(x[0]) \n",
    "    train.append(x)\n",
    "# print (len(train))\n",
    "# print (train[:3])"
   ]
  },
  {
   "cell_type": "code",
   "execution_count": 3,
   "metadata": {},
   "outputs": [],
   "source": [
    "for x in open('./dev_enc.tsv', encoding='utf-8'):\n",
    "    x = x.rstrip('\\n\\r').split('\\t')\n",
    "    # x[0] will be the label (0 or 1), and x[1] will be the ciphertext sentence.\n",
    "    x[0] = int(x[0]) \n",
    "    dev.append(x)\n",
    "# print (len(dev))\n",
    "# print (dev[:3])"
   ]
  },
  {
   "cell_type": "markdown",
   "execution_count": null,
   "metadata": {},
   "outputs": [],
   "source": [
    "#### Different from 'train' and 'dev' that are both list of tuples, 'test' will be just a list."
   ]
  },
  {
   "cell_type": "code",
   "execution_count": 4,
   "metadata": {},
   "outputs": [],
   "source": [
    "for x in open('./test_enc_unlabeled.tsv', encoding='utf-8'):\n",
    "    x = x.rstrip('\\n\\r')\n",
    "    test.append(x)\n",
    "# print (len(test))\n",
    "# print (test[:3])"
   ]
  },
  {
   "cell_type": "markdown",
   "execution_count": null,
   "metadata": {},
   "outputs": [],
   "source": [
    "#### You can split every sentence into lists of words by white spaces."
   ]
  },
  {
   "cell_type": "code",
   "execution_count": 5,
   "metadata": {},
   "outputs": [],
   "source": [
    "train_split = [[x[0], x[1].split(' ')] for x in train]\n",
    "dev_split = [[x[0], x[1].split(' ')] for x in dev]\n",
    "train_split = train_split + dev_split\n",
    "test_split = [x.split(' ') for x in test]"
   ]
  },
  {
   "cell_type": "markdown",
   "execution_count": null,
   "metadata": {},
   "outputs": [],
   "source": [
    "### Main Code Body"
   ]
  },
  {
   "cell_type": "markdown",
   "execution_count": null,
   "metadata": {},
   "outputs": [],
   "source": [
    "You may choose to experiment with different methods using your program. However, you need to embed the training and inference processes at here. We will use your prediction on the unlabeled test data to grade, while checking this part to understand how your method has produced the predictions."
   ]
  },
  {
   "cell_type": "code",
   "execution_count": 6,
   "metadata": {},
   "outputs": [],
   "source": [
    "# import required library\n",
    "import numpy as np\n",
    "np.random.seed(0)\n",
    "from gensim.models import Word2Vec\n",
    "from keras.models import Sequential\n",
    "from collections import defaultdict\n",
    "from tensorflow.keras import optimizers\n",
    "from keras.initializers import Constant\n",
    "from keras.preprocessing import sequence\n",
    "from keras.layers.embeddings import Embedding\n",
    "from keras.layers import LSTM, Dropout, Dense, Flatten, Bidirectional\n",
    "\n"
   ]
  },
  {
   "cell_type": "code",
   "execution_count": 7,
   "metadata": {},
   "outputs": [],
   "source": [
    "# train using Word2Vec to create vector embedding\n",
    "train_sentences = [item[1] for item in train_split]\n",
    "maxList = max(train_sentences, key = lambda i: len(i))\n",
    "max_sentence_length = len(maxList)\n",
    "\n",
    "word2Vec_model = Word2Vec(sentences = train_sentences, vector_size = 100, window = 10, min_count = 1, sg = 1)\n",
    "word2Vec_weights = word2Vec_model.wv.vectors\n",
    "word2Vec_vocab_size, word2Vec_embedding_size = word2Vec_weights.shape\n",
    "vocabulary = list(word2Vec_model.wv.index_to_key)\n",
    "\n",
    "word2Vec_dict = {}\n",
    "for word in vocabulary:\n",
    "    word2Vec_dict[word] = word2Vec_model.wv.get_vector(word)"
   ]
  },
  {
   "cell_type": "code",
   "execution_count": 8,
   "metadata": {},
   "outputs": [],
   "source": [
    "# data prepocessing\n",
    "X_test =  test_split\n",
    "X_train = [item[1] for item in train_split]\n",
    "Y_train = [item[0] for item in train_split]\n",
    "\n",
    "train_dict = defaultdict(int)\n",
    "for i, sentence in enumerate(X_train):\n",
    "    for word in sentence:\n",
    "        train_dict[word] += 1\n",
    "\n",
    "# print(len(train_dict))\n",
    "# print(len(vocabulary))\n",
    "\n",
    "min_freq, max_freq = 1, 8000\n",
    "train_dict = {k:v for k, v in train_dict.items() if v>=min_freq and v<=max_freq}\n",
    "rank_words = {key: rank for rank, key in enumerate(sorted(train_dict, key=train_dict.get, reverse=True), 1)}\n",
    "vocabulary_size = len(rank_words)"
   ]
  },
  {
   "cell_type": "code",
   "execution_count": 9,
   "metadata": {},
   "outputs": [],
   "source": [
    "# create mbedding matrix\n",
    "embedding_matrix = np.zeros(shape=(vocabulary_size + 1, word2Vec_embedding_size))\n",
    "for i,word in enumerate(rank_words):\n",
    "  embedding_vector = word2Vec_dict.get(word)\n",
    "  if embedding_vector is not None:\n",
    "    embedding_matrix[i+1] = embedding_vector\n",
    "# print(embedding_matrix.shape)"
   ]
  },
  {
   "cell_type": "code",
   "execution_count": 10,
   "metadata": {},
   "outputs": [],
   "source": [
    "# data encoding for training\n",
    "X_train_encoded = []\n",
    "for i,sentence in enumerate(X_train):\n",
    "    encoded_sentence = []\n",
    "    for word in sentence:\n",
    "        encoded_sentence.append(rank_words.get(word,0))\n",
    "    X_train_encoded.append(encoded_sentence)\n",
    "\n",
    "X_test_encoded = []\n",
    "for i, sentence in enumerate(X_test):\n",
    "    encoded_sentence = []\n",
    "    for word in sentence:\n",
    "        encoded_sentence.append(rank_words.get(word,0))\n",
    "    X_test_encoded.append(encoded_sentence)\n"
   ]
  },
  {
   "cell_type": "code",
   "execution_count": 11,
   "metadata": {},
   "outputs": [],
   "source": [
    "# data padding\n",
    "X_train_pad = sequence.pad_sequences(X_train_encoded, maxlen = max_sentence_length)\n",
    "X_test_pad = sequence.pad_sequences(X_test_encoded, maxlen = max_sentence_length)\n",
    "\n",
    "X_train_sample = np.asarray(X_train_pad)\n",
    "Y_train_sample = np.asarray(Y_train)\n",
    "X_test_sample = np.asarray(X_test_pad)\n",
    "\n",
    "# print(len(X_train_sample))\n",
    "# print(X_train_sample.shape)\n",
    "# print(len(Y_train_sample))\n",
    "# print(X_test_sample.shape)"
   ]
  },
  {
   "cell_type": "code",
   "execution_count": 12,
   "metadata": {},
   "outputs": [
    {
     "name": "stderr",
     "output_type": "stream",
     "text": "2022-03-21 18:58:51.628454: I tensorflow/core/platform/cpu_feature_guard.cc:151] This TensorFlow binary is optimized with oneAPI Deep Neural Network Library (oneDNN) to use the following CPU instructions in performance-critical operations:  AVX2 FMA\nTo enable them in other operations, rebuild TensorFlow with the appropriate compiler flags.\nEpoch 1/5\n1141/1141 [==============================] - 63s 53ms/step - loss: 0.5006 - accuracy: 0.7520\nEpoch 2/5\n1141/1141 [==============================] - 79s 69ms/step - loss: 0.2542 - accuracy: 0.9010\nEpoch 3/5\n1141/1141 [==============================] - 65s 57ms/step - loss: 0.1454 - accuracy: 0.9476\nEpoch 4/5\n1141/1141 [==============================] - 69s 60ms/step - loss: 0.0994 - accuracy: 0.9640\nEpoch 5/5\n1141/1141 [==============================] - 58s 51ms/step - loss: 0.0727 - accuracy: 0.9705\n"
    },
    {
     "data": {
      "text/plain": "<keras.callbacks.History at 0x125667dc0>"
     },
     "execution_count": 12,
     "metadata": {},
     "output_type": "execute_result"
    }
   ],
   "source": [
    "# create the model\n",
    "model = Sequential()\n",
    "model.add(Embedding(input_dim = vocabulary_size + 1, output_dim = word2Vec_embedding_size, input_length = max_sentence_length, embeddings_initializer = Constant(embedding_matrix)))\n",
    "model.add(Dropout(0.2))\n",
    "model.add(Bidirectional(LSTM(64)))\n",
    "# model.add(LSTM(64))\n",
    "model.add(Dropout(0.2))\n",
    "model.add(Dense(1, activation='sigmoid'))\n",
    "model.compile(loss='binary_crossentropy', optimizer='adam', metrics=['accuracy'])\n",
    "# print(model.summary())\n",
    "model.fit(X_train_sample, Y_train_sample, epochs = 5, batch_size = 16)"
   ]
  },
  {
   "cell_type": "markdown",
   "execution_count": null,
   "metadata": {},
   "outputs": [],
   "source": [
    "### Output Prediction Result File"
   ]
  },
  {
   "cell_type": "code",
   "execution_count": 13,
   "metadata": {},
   "outputs": [],
   "source": [
    "# Eventually, results need to be a list of 2028 0 or 1's\n",
    "results = []\n",
    "result_probabilities = model.predict(X_test_sample)\n",
    "results = [1 if probability>=0.5 else 0 for probability in result_probabilities]"
   ]
  },
  {
   "cell_type": "markdown",
   "execution_count": null,
   "metadata": {},
   "outputs": [],
   "source": [
    "You will need to submit a prediction result file. It should have 2028 lines, every line should be either 0 or 1, which is your model's prediction on the respective test set instance."
   ]
  },
  {
   "cell_type": "code",
   "execution_count": 14,
   "metadata": {},
   "outputs": [],
   "source": [
    "# suppose you had your model's predictions on the 2028 test cases read from test_enc_unlabeled.tsv, and \n",
    "#those results are in the list called 'results'\n",
    "assert (len(results) == 2028)"
   ]
  },
  {
   "cell_type": "code",
   "execution_count": 15,
   "metadata": {},
   "outputs": [
    {
     "name": "stdout",
     "output_type": "stream",
     "text": "1063\n965\n"
    }
   ],
   "source": [
    "# make sure the results are not float numbers, but intergers 0 and 1\n",
    "results = [int(x) for x in results]\n",
    "zero = results.count(0)\n",
    "one = results.count(1)\n",
    "print(zero)\n",
    "print(one)"
   ]
  },
  {
   "cell_type": "code",
   "execution_count": 42,
   "metadata": {},
   "outputs": [],
   "source": [
    "# write your prediction results to 'upload_predictions.txt' and upload that later\n",
    "with open('upload_predictions2.txt', 'w', encoding = 'utf-8') as fp:\n",
    "    for x in results:\n",
    "        fp.write(str(x) + '\\n')"
   ]
  },
  {
   "cell_type": "code",
   "execution_count": null,
   "metadata": {},
   "outputs": [],
   "source": []
  }
 ],
 "metadata": {
  "kernelspec": {
   "display_name": "Python 3.10.0 64-bit",
   "language": "python",
   "name": "python310064bitfb335e516cf1419fa40eefd43c9b328c"
  },
  "language_info": {
   "codemirror_mode": {
    "name": "ipython",
    "version": 3
   },
   "file_extension": ".py",
   "mimetype": "text/x-python",
   "name": "python",
   "nbconvert_exporter": "python",
   "pygments_lexer": "ipython3",
   "version": "3.10.0-final"
  }
 },
 "nbformat": 4,
 "nbformat_minor": 4
}